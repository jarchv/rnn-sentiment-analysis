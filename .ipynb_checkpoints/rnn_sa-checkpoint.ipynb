{
 "cells": [
  {
   "cell_type": "markdown",
   "metadata": {},
   "source": [
    "# Recurrent Neural Network for Sentiment Analysis"
   ]
  },
  {
   "cell_type": "markdown",
   "metadata": {},
   "source": [
    "Adapted from http://nbviewer.jupyter.org/github/rasbt/pattern_classification/blob/master/machine_learning/scikit-learn/outofcore_modelpersistence.ipynb"
   ]
  },
  {
   "cell_type": "markdown",
   "metadata": {},
   "source": [
    "<br>\n",
    "<br>"
   ]
  },
  {
   "cell_type": "markdown",
   "metadata": {},
   "source": [
    "## The IMDb Movie Review Dataset"
   ]
  },
  {
   "cell_type": "markdown",
   "metadata": {},
   "source": [
    "In this section, we will train a simple logistic regression model to classify movie reviews from the 50k IMDb review dataset that has been collected by Maas et. al.\n",
    "\n",
    "> AL Maas, RE Daly, PT Pham, D Huang, AY Ng, and C Potts. Learning word vectors for sentiment analysis. In Proceedings of the 49th Annual Meeting of the Association for Computational Lin- guistics: Human Language Technologies, pages 142–150, Portland, Oregon, USA, June 2011. Association for Computational Linguistics\n",
    "\n",
    "[Source: http://ai.stanford.edu/~amaas/data/sentiment/]\n",
    "\n",
    "The dataset consists of 50,000 movie reviews from the original \"train\" and \"test\" subdirectories. The class labels are binary (1=positive and 0=negative) and contain 25,000 positive and 25,000 negative movie reviews, respectively.\n",
    "For simplicity, I assembled the reviews in a single CSV file.\n"
   ]
  },
  {
   "cell_type": "code",
   "execution_count": 18,
   "metadata": {},
   "outputs": [],
   "source": [
    "import re\n",
    "import collections\n",
    "import sys\n",
    "import time\n",
    "import numpy as np\n",
    "import pandas as pd\n",
    "import matplotlib.pyplot as plt\n",
    "from nltk.stem.porter import PorterStemmer\n",
    "from nltk.corpus import stopwords"
   ]
  },
  {
   "cell_type": "code",
   "execution_count": 19,
   "metadata": {},
   "outputs": [
    {
     "data": {
      "text/html": [
       "<div>\n",
       "<style scoped>\n",
       "    .dataframe tbody tr th:only-of-type {\n",
       "        vertical-align: middle;\n",
       "    }\n",
       "\n",
       "    .dataframe tbody tr th {\n",
       "        vertical-align: top;\n",
       "    }\n",
       "\n",
       "    .dataframe thead th {\n",
       "        text-align: right;\n",
       "    }\n",
       "</style>\n",
       "<table border=\"1\" class=\"dataframe\">\n",
       "  <thead>\n",
       "    <tr style=\"text-align: right;\">\n",
       "      <th></th>\n",
       "      <th>review</th>\n",
       "      <th>sentiment</th>\n",
       "    </tr>\n",
       "  </thead>\n",
       "  <tbody>\n",
       "    <tr>\n",
       "      <th>49995</th>\n",
       "      <td>OK, lets start with the best. the building. al...</td>\n",
       "      <td>0</td>\n",
       "    </tr>\n",
       "    <tr>\n",
       "      <th>49996</th>\n",
       "      <td>The British 'heritage film' industry is out of...</td>\n",
       "      <td>0</td>\n",
       "    </tr>\n",
       "    <tr>\n",
       "      <th>49997</th>\n",
       "      <td>I don't even know where to begin on this one. ...</td>\n",
       "      <td>0</td>\n",
       "    </tr>\n",
       "    <tr>\n",
       "      <th>49998</th>\n",
       "      <td>Richard Tyler is a little boy who is scared of...</td>\n",
       "      <td>0</td>\n",
       "    </tr>\n",
       "    <tr>\n",
       "      <th>49999</th>\n",
       "      <td>I waited long to watch this movie. Also becaus...</td>\n",
       "      <td>1</td>\n",
       "    </tr>\n",
       "  </tbody>\n",
       "</table>\n",
       "</div>"
      ],
      "text/plain": [
       "                                                  review  sentiment\n",
       "49995  OK, lets start with the best. the building. al...          0\n",
       "49996  The British 'heritage film' industry is out of...          0\n",
       "49997  I don't even know where to begin on this one. ...          0\n",
       "49998  Richard Tyler is a little boy who is scared of...          0\n",
       "49999  I waited long to watch this movie. Also becaus...          1"
      ]
     },
     "execution_count": 19,
     "metadata": {},
     "output_type": "execute_result"
    }
   ],
   "source": [
    "df = pd.read_csv('shuffled_movie_data.csv')\n",
    "df.tail()"
   ]
  },
  {
   "cell_type": "markdown",
   "metadata": {},
   "source": [
    "Let us shuffle the class labels."
   ]
  },
  {
   "cell_type": "code",
   "execution_count": 21,
   "metadata": {},
   "outputs": [
    {
     "data": {
      "text/plain": [
       "array(['In 1974, the teenager Martha Moxley (Maggie Grace) moves to the high-class area of Belle Haven, Greenwich, Connecticut. On the Mischief Night, eve of Halloween, she was murdered in the backyard of her house and her murder remained unsolved. Twenty-two years later, the writer Mark Fuhrman (Christopher Meloni), who is a former LA detective that has fallen in disgrace for perjury in O.J. Simpson trial and moved to Idaho, decides to investigate the case with his partner Stephen Weeks (Andrew Mitchell) with the purpose of writing a book. The locals squirm and do not welcome them, but with the support of the retired detective Steve Carroll (Robert Forster) that was in charge of the investigation in the 70\\'s, they discover the criminal and a net of power and money to cover the murder.<br /><br />\"Murder in Greenwich\" is a good TV movie, with the true story of a murder of a fifteen years old girl that was committed by a wealthy teenager whose mother was a Kennedy. The powerful and rich family used their influence to cover the murder for more than twenty years. However, a snoopy detective and convicted perjurer in disgrace was able to disclose how the hideous crime was committed. The screenplay shows the investigation of Mark and the last days of Martha in parallel, but there is a lack of the emotion in the dramatization. My vote is seven.<br /><br />Title (Brazil): Not Available',\n",
       "       1], dtype=object)"
      ]
     },
     "execution_count": 21,
     "metadata": {},
     "output_type": "execute_result"
    }
   ],
   "source": [
    "df.head().values[0]"
   ]
  },
  {
   "cell_type": "markdown",
   "metadata": {},
   "source": [
    "## Generator"
   ]
  },
  {
   "cell_type": "markdown",
   "metadata": {},
   "source": [
    "First, we define a generator that returns the document body and the corresponding class label:"
   ]
  },
  {
   "cell_type": "code",
   "execution_count": 50,
   "metadata": {},
   "outputs": [],
   "source": [
    "def stream_docs(path):\n",
    "    with open(path, 'r') as csv:\n",
    "        next(csv) # skip header\n",
    "        for line in csv:\n",
    "            text, label = line[:-3], int(line[-2])\n",
    "            yield text, label"
   ]
  },
  {
   "cell_type": "markdown",
   "metadata": {},
   "source": [
    "To conform that the `stream_docs` function fetches the documents as intended, let us execute the following code snippet before we implement the `get_minibatch` function:"
   ]
  },
  {
   "cell_type": "markdown",
   "metadata": {},
   "source": [
    "After we confirmed that our `stream_docs` functions works, we will now implement a `get_minibatch` function to fetch a specified number (`size`) of documents:"
   ]
  },
  {
   "cell_type": "code",
   "execution_count": 51,
   "metadata": {},
   "outputs": [],
   "source": [
    "def get_minibatch(doc_stream, size):\n",
    "    docs, y = [], []\n",
    "    for _ in range(size):\n",
    "        text, label = next(doc_stream)\n",
    "        docs.append(text)\n",
    "        y.append(label)\n",
    "    return docs, y"
   ]
  },
  {
   "cell_type": "markdown",
   "metadata": {},
   "source": [
    "## Preprocessing Text Data"
   ]
  },
  {
   "cell_type": "markdown",
   "metadata": {},
   "source": [
    "Now, let us define a simple `tokenizer` that splits the text into individual word tokens. Furthermore, we will use some simple regular expression to remove HTML markup and all non-letter characters but \"emoticons,\" convert the text to lower case, remove stopwords, and apply the Porter stemming algorithm to convert the words into their root form."
   ]
  },
  {
   "cell_type": "code",
   "execution_count": 73,
   "metadata": {},
   "outputs": [],
   "source": [
    "#from nltk.stem import WordNetLemmatizer\n",
    "#wordnet_lemmatizer = WordNetLemmatizer()\n",
    "\n",
    "def tokenizer(text):\n",
    "    text = re.sub('<[^>]*>', '', text)\n",
    "    text = re.sub(r\"it's\", \" it is\", text)\n",
    "    text = re.sub(r\"that's\", \" that is\", text)\n",
    "    text = re.sub(r\"\\'s\", \" 's\", text)\n",
    "    text = re.sub(r\"\\'ve\", \" have\", text)\n",
    "    text = re.sub(r\"won't\", \" will not\", text)\n",
    "    text = re.sub(r\"don't\", \" do not\", text)\n",
    "    text = re.sub(r\"can't\", \" can not\", text)\n",
    "    text = re.sub(r\"cannot\", \" can not\", text)\n",
    "    text = re.sub(r\"n\\'t\", \" n\\'t\", text)\n",
    "    text = re.sub(r\"\\'re\", \" are\", text)\n",
    "    text = re.sub(r\"\\'d\", \" would\", text)\n",
    "    text = re.sub(r\"\\'ll\", \" will\", text)\n",
    "    text = re.sub(r\"\\'m\", \" am\", text)\n",
    "\n",
    "    text = re.sub('[\\W]+', ' ', text.lower())\n",
    "    text = [w for w in text.split()]\n",
    "    \n",
    "    #tokenized = [wordnet_lemmatizer.lemmatize(w) for w in text]\n",
    "    return text\n",
    "    #return tokenized"
   ]
  },
  {
   "cell_type": "markdown",
   "metadata": {},
   "source": [
    "Let's give it at try:"
   ]
  },
  {
   "cell_type": "code",
   "execution_count": 79,
   "metadata": {},
   "outputs": [
    {
     "data": {
      "text/plain": [
       "['this',\n",
       " 'is',\n",
       " 'a',\n",
       " 'test',\n",
       " 'and',\n",
       " 'i',\n",
       " 'am',\n",
       " 'not',\n",
       " 'sure',\n",
       " 'what',\n",
       " 'will',\n",
       " 'happens']"
      ]
     },
     "execution_count": 79,
     "metadata": {},
     "output_type": "execute_result"
    }
   ],
   "source": [
    "tokenizer(\"This :) is a <br /> test! :-) and I'm not sure what will happens</br>\")"
   ]
  },
  {
   "cell_type": "code",
   "execution_count": 81,
   "metadata": {},
   "outputs": [
    {
     "name": "stdout",
     "output_type": "stream",
     "text": [
      "\"In 1974, the teenager Martha Moxley (Maggie Grace) moves to the high-class area of Belle Haven, Greenwich, Connecticut. On the Mischief Night, eve of Halloween, she was murdered in the backyard of her house and her murder remained unsolved. Twenty-two years later, the writer Mark Fuhrman (Christopher Meloni), who is a former LA detective that has fallen in disgrace for perjury in O.J. Simpson trial and moved to Idaho, decides to investigate the case with his partner Stephen Weeks (Andrew Mitchell) with the purpose of writing a book. The locals squirm and do not welcome them, but with the support of the retired detective Steve Carroll (Robert Forster) that was in charge of the investigation in the 70's, they discover the criminal and a net of power and money to cover the murder.<br /><br />\"\"Murder in Greenwich\"\" is a good TV movie, with the true story of a murder of a fifteen years old girl that was committed by a wealthy teenager whose mother was a Kennedy. The powerful and rich family used their influence to cover the murder for more than twenty years. However, a snoopy detective and convicted perjurer in disgrace was able to disclose how the hideous crime was committed. The screenplay shows the investigation of Mark and the last days of Martha in parallel, but there is a lack of the emotion in the dramatization. My vote is seven.<br /><br />Title (Brazil): Not Available\"\n",
      "\r",
      " 0.00%1\n"
     ]
    },
    {
     "ename": "TypeError",
     "evalue": "expected string or bytes-like object",
     "output_type": "error",
     "traceback": [
      "\u001b[0;31m---------------------------------------------------------------------------\u001b[0m",
      "\u001b[0;31mTypeError\u001b[0m                                 Traceback (most recent call last)",
      "\u001b[0;32m<ipython-input-81-341434b4c7ff>\u001b[0m in \u001b[0;36m<module>\u001b[0;34m\u001b[0m\n\u001b[1;32m      7\u001b[0m \u001b[0;32mfor\u001b[0m \u001b[0midx\u001b[0m\u001b[0;34m,\u001b[0m \u001b[0mreview\u001b[0m \u001b[0;32min\u001b[0m \u001b[0menumerate\u001b[0m\u001b[0;34m(\u001b[0m\u001b[0mget_minibatch\u001b[0m\u001b[0;34m(\u001b[0m\u001b[0mdoc_stream\u001b[0m\u001b[0;34m,\u001b[0m \u001b[0;36m50000\u001b[0m\u001b[0;34m)\u001b[0m\u001b[0;34m)\u001b[0m\u001b[0;34m:\u001b[0m\u001b[0;34m\u001b[0m\u001b[0m\n\u001b[1;32m      8\u001b[0m     \u001b[0mprint\u001b[0m\u001b[0;34m(\u001b[0m\u001b[0mreview\u001b[0m\u001b[0;34m[\u001b[0m\u001b[0;36m0\u001b[0m\u001b[0;34m]\u001b[0m\u001b[0;34m)\u001b[0m\u001b[0;34m\u001b[0m\u001b[0m\n\u001b[0;32m----> 9\u001b[0;31m     \u001b[0mlist_of_words\u001b[0m \u001b[0;34m=\u001b[0m \u001b[0mtokenizer\u001b[0m\u001b[0;34m(\u001b[0m\u001b[0mreview\u001b[0m\u001b[0;34m[\u001b[0m\u001b[0;36m0\u001b[0m\u001b[0;34m]\u001b[0m\u001b[0;34m)\u001b[0m\u001b[0;34m\u001b[0m\u001b[0m\n\u001b[0m\u001b[1;32m     10\u001b[0m     \u001b[0msentences\u001b[0m\u001b[0;34m.\u001b[0m\u001b[0mappend\u001b[0m\u001b[0;34m(\u001b[0m\u001b[0mlist_of_words\u001b[0m\u001b[0;34m)\u001b[0m\u001b[0;34m\u001b[0m\u001b[0m\n\u001b[1;32m     11\u001b[0m     \u001b[0mlabels\u001b[0m\u001b[0;34m.\u001b[0m\u001b[0mappend\u001b[0m\u001b[0;34m(\u001b[0m\u001b[0mreview\u001b[0m\u001b[0;34m[\u001b[0m\u001b[0;36m1\u001b[0m\u001b[0;34m]\u001b[0m\u001b[0;34m)\u001b[0m\u001b[0;34m\u001b[0m\u001b[0m\n",
      "\u001b[0;32m<ipython-input-73-6a4cf454a8f2>\u001b[0m in \u001b[0;36mtokenizer\u001b[0;34m(text)\u001b[0m\n\u001b[1;32m      4\u001b[0m \u001b[0;32mdef\u001b[0m \u001b[0mtokenizer\u001b[0m\u001b[0;34m(\u001b[0m\u001b[0mtext\u001b[0m\u001b[0;34m)\u001b[0m\u001b[0;34m:\u001b[0m\u001b[0;34m\u001b[0m\u001b[0m\n\u001b[1;32m      5\u001b[0m     \u001b[0mclean\u001b[0m\u001b[0;34m=\u001b[0m \u001b[0mre\u001b[0m\u001b[0;34m.\u001b[0m\u001b[0mcompile\u001b[0m\u001b[0;34m(\u001b[0m\u001b[0;34m'<.*?>'\u001b[0m\u001b[0;34m)\u001b[0m\u001b[0;34m\u001b[0m\u001b[0m\n\u001b[0;32m----> 6\u001b[0;31m     \u001b[0mtext\u001b[0m \u001b[0;34m=\u001b[0m \u001b[0mre\u001b[0m\u001b[0;34m.\u001b[0m\u001b[0msub\u001b[0m\u001b[0;34m(\u001b[0m\u001b[0mclean\u001b[0m\u001b[0;34m,\u001b[0m \u001b[0;34m''\u001b[0m\u001b[0;34m,\u001b[0m \u001b[0mtext\u001b[0m\u001b[0;34m)\u001b[0m\u001b[0;34m\u001b[0m\u001b[0m\n\u001b[0m\u001b[1;32m      7\u001b[0m     \u001b[0mtext\u001b[0m \u001b[0;34m=\u001b[0m \u001b[0mre\u001b[0m\u001b[0;34m.\u001b[0m\u001b[0msub\u001b[0m\u001b[0;34m(\u001b[0m\u001b[0;34mr\"it's\"\u001b[0m\u001b[0;34m,\u001b[0m \u001b[0;34m\" it is\"\u001b[0m\u001b[0;34m,\u001b[0m \u001b[0mtext\u001b[0m\u001b[0;34m)\u001b[0m\u001b[0;34m\u001b[0m\u001b[0m\n\u001b[1;32m      8\u001b[0m     \u001b[0mtext\u001b[0m \u001b[0;34m=\u001b[0m \u001b[0mre\u001b[0m\u001b[0;34m.\u001b[0m\u001b[0msub\u001b[0m\u001b[0;34m(\u001b[0m\u001b[0;34mr\"that's\"\u001b[0m\u001b[0;34m,\u001b[0m \u001b[0;34m\" that is\"\u001b[0m\u001b[0;34m,\u001b[0m \u001b[0mtext\u001b[0m\u001b[0;34m)\u001b[0m\u001b[0;34m\u001b[0m\u001b[0m\n",
      "\u001b[0;32m/usr/lib/python3.5/re.py\u001b[0m in \u001b[0;36msub\u001b[0;34m(pattern, repl, string, count, flags)\u001b[0m\n\u001b[1;32m    180\u001b[0m     \u001b[0ma\u001b[0m \u001b[0mcallable\u001b[0m\u001b[0;34m,\u001b[0m \u001b[0mit\u001b[0m\u001b[0;31m'\u001b[0m\u001b[0ms\u001b[0m \u001b[0mpassed\u001b[0m \u001b[0mthe\u001b[0m \u001b[0mmatch\u001b[0m \u001b[0mobject\u001b[0m \u001b[0;32mand\u001b[0m \u001b[0mmust\u001b[0m \u001b[0;32mreturn\u001b[0m\u001b[0;34m\u001b[0m\u001b[0m\n\u001b[1;32m    181\u001b[0m     a replacement string to be used.\"\"\"\n\u001b[0;32m--> 182\u001b[0;31m     \u001b[0;32mreturn\u001b[0m \u001b[0m_compile\u001b[0m\u001b[0;34m(\u001b[0m\u001b[0mpattern\u001b[0m\u001b[0;34m,\u001b[0m \u001b[0mflags\u001b[0m\u001b[0;34m)\u001b[0m\u001b[0;34m.\u001b[0m\u001b[0msub\u001b[0m\u001b[0;34m(\u001b[0m\u001b[0mrepl\u001b[0m\u001b[0;34m,\u001b[0m \u001b[0mstring\u001b[0m\u001b[0;34m,\u001b[0m \u001b[0mcount\u001b[0m\u001b[0;34m)\u001b[0m\u001b[0;34m\u001b[0m\u001b[0m\n\u001b[0m\u001b[1;32m    183\u001b[0m \u001b[0;34m\u001b[0m\u001b[0m\n\u001b[1;32m    184\u001b[0m \u001b[0;32mdef\u001b[0m \u001b[0msubn\u001b[0m\u001b[0;34m(\u001b[0m\u001b[0mpattern\u001b[0m\u001b[0;34m,\u001b[0m \u001b[0mrepl\u001b[0m\u001b[0;34m,\u001b[0m \u001b[0mstring\u001b[0m\u001b[0;34m,\u001b[0m \u001b[0mcount\u001b[0m\u001b[0;34m=\u001b[0m\u001b[0;36m0\u001b[0m\u001b[0;34m,\u001b[0m \u001b[0mflags\u001b[0m\u001b[0;34m=\u001b[0m\u001b[0;36m0\u001b[0m\u001b[0;34m)\u001b[0m\u001b[0;34m:\u001b[0m\u001b[0;34m\u001b[0m\u001b[0m\n",
      "\u001b[0;31mTypeError\u001b[0m: expected string or bytes-like object"
     ]
    }
   ],
   "source": [
    "sentences = []\n",
    "labels    = []\n",
    "lengths   = []\n",
    "\n",
    "doc_stream = stream_docs('shuffled_movie_data.csv')\n",
    "\n",
    "for idx, review in enumerate(get_minibatch(doc_stream, 50000)):\n",
    "    print(review[0])\n",
    "    list_of_words = tokenizer(review[0])\n",
    "    sentences.append(list_of_words)\n",
    "    labels.append(review[1])\n",
    "    lengths.append(len(list_of_words))\n",
    "    sys.stdout.write('\\r{:5.2f}%'.format(100*(idx+1)/50000))\n",
    "sys.stdout.write('\\rDone     \\n\\n')  "
   ]
  },
  {
   "cell_type": "code",
   "execution_count": 76,
   "metadata": {},
   "outputs": [],
   "source": [
    "# Exercise 1: define features based on word embeddings (pre-trained word2vec / Glove/Fastext emebddings can be used)\n",
    "# Define suitable d dimension, and sequence length"
   ]
  },
  {
   "cell_type": "markdown",
   "metadata": {},
   "source": [
    "## Word Embedding"
   ]
  },
  {
   "cell_type": "code",
   "execution_count": 4,
   "metadata": {},
   "outputs": [
    {
     "data": {
      "text/plain": [
       "(400000, 100)"
      ]
     },
     "execution_count": 4,
     "metadata": {},
     "output_type": "execute_result"
    }
   ],
   "source": [
    "from gensim.scripts.glove2word2vec import glove2word2vec\n",
    "\n",
    "glove_input_file = 'models/glove.6B.100d.txt'\n",
    "word2vec_output_file = 'models/glove.6B.100d.txt.word2vec'\n",
    "glove2word2vec(glove_input_file, word2vec_output_file)"
   ]
  },
  {
   "cell_type": "code",
   "execution_count": 7,
   "metadata": {},
   "outputs": [],
   "source": [
    "from gensim.models import KeyedVectors\n",
    "\n",
    "filename = 'models/glove.6B.100d.txt.word2vec'\n",
    "model = KeyedVectors.load_word2vec_format(filename, binary=False)"
   ]
  },
  {
   "cell_type": "markdown",
   "metadata": {},
   "source": [
    "### Getting embedding vectors"
   ]
  },
  {
   "cell_type": "code",
   "execution_count": 8,
   "metadata": {},
   "outputs": [
    {
     "name": "stdout",
     "output_type": "stream",
     "text": [
      "[('queen', 0.7698541283607483)]\n"
     ]
    },
    {
     "name": "stderr",
     "output_type": "stream",
     "text": [
      "/usr/local/lib/python3.5/dist-packages/gensim/matutils.py:737: FutureWarning: Conversion of the second argument of issubdtype from `int` to `np.signedinteger` is deprecated. In future, it will be treated as `np.int64 == np.dtype(int).type`.\n",
      "  if np.issubdtype(vec.dtype, np.int):\n"
     ]
    }
   ],
   "source": [
    "# calculate: (king - man) + woman = ?\n",
    "result = model.most_similar(positive=['woman', 'king'], negative=['man'], topn=1)\n",
    "print(result)"
   ]
  },
  {
   "cell_type": "code",
   "execution_count": 10,
   "metadata": {},
   "outputs": [
    {
     "name": "stdout",
     "output_type": "stream",
     "text": [
      "'woman' is similar to 'girl' with a score of 0.8473\n"
     ]
    }
   ],
   "source": [
    "result = model.most_similar(positive=['woman'], topn=1)\n",
    "print(\"'woman' is similar to '{}' with a score of {:1.4f}\".format(result[0][0],result[0][1]))"
   ]
  },
  {
   "cell_type": "code",
   "execution_count": 14,
   "metadata": {},
   "outputs": [
    {
     "name": "stdout",
     "output_type": "stream",
     "text": [
      "vocabulary size : 400000\n"
     ]
    }
   ],
   "source": [
    "VOC_SIZE = len(model.vocab.keys())\n",
    "print('vocabulary size :', VOC_SIZE)"
   ]
  },
  {
   "cell_type": "code",
   "execution_count": 15,
   "metadata": {},
   "outputs": [
    {
     "name": "stdout",
     "output_type": "stream",
     "text": [
      "embedding size :  (100,)\n"
     ]
    }
   ],
   "source": [
    "EMB_SIZE = model['woman'].shape\n",
    "print('embedding size : ', EMB_SIZE)"
   ]
  },
  {
   "cell_type": "code",
   "execution_count": 152,
   "metadata": {},
   "outputs": [],
   "source": [
    "class ReviewVectorizer:\n",
    "    def __init__(self, model, maxlen):\n",
    "        self.model  = model\n",
    "        self.maxlen = maxlen\n",
    "    def transform(self, reviews_tokenized):\n",
    "        n = len(reviews_tokenized)\n",
    "        vector = np.zeros((n, self.maxlen, emb_size), dtype=np.float16)\n",
    "        for idx, review in enumerate(reviews_tokenized):\n",
    "            for iw, word in enumerate(review):\n",
    "                if word in self.model.wv.vocab:\n",
    "                    vector[idx][iw] = self.model.wv[word]\n",
    "            sys.stdout.write('\\r{:5.2f}%'.format(100*(idx+1)/n))\n",
    "        sys.stdout.write('\\rDone     \\n\\n')                    \n",
    "        vector = vector.reshape((n, -1))\n",
    "        return vector"
   ]
  },
  {
   "cell_type": "code",
   "execution_count": 153,
   "metadata": {},
   "outputs": [],
   "source": [
    "MAXLEN = max(lengths)\n",
    "vectorizer = ReviewVectorizer(model, MAXLEN)"
   ]
  },
  {
   "cell_type": "code",
   "execution_count": 154,
   "metadata": {},
   "outputs": [
    {
     "name": "stdout",
     "output_type": "stream",
     "text": [
      "Done     \n",
      "\n"
     ]
    }
   ],
   "source": [
    "res = vectorizer.transform(sentences)"
   ]
  },
  {
   "cell_type": "code",
   "execution_count": 155,
   "metadata": {},
   "outputs": [],
   "source": [
    "assert (MAXLEN*emb_size == res.shape[1])"
   ]
  },
  {
   "cell_type": "code",
   "execution_count": 156,
   "metadata": {},
   "outputs": [
    {
     "name": "stdout",
     "output_type": "stream",
     "text": [
      "X_train shape:  (50000, 99920)\n",
      "y_train shape:  (50000, 1)\n"
     ]
    }
   ],
   "source": [
    "y_train = np.asarray(labels).reshape((-1, 1))\n",
    "X_train = res\n",
    "del res\n",
    "print('X_train shape: ',X_train.shape)\n",
    "print('y_train shape: ',y_train.shape)"
   ]
  },
  {
   "cell_type": "code",
   "execution_count": 157,
   "metadata": {},
   "outputs": [],
   "source": [
    "# Exercise 2: Define at least a Three layer neural network. Define its structure (number of hidden neurons, etc)\n",
    "# Define a nonlinear function for hidden layers.\n",
    "# Define a suitable loss function for binary classification\n",
    "# Implement the backpropagation algorithm for this structure\n",
    "# Do not use Keras / Tensorflow /PyTorch etc. libraries\n",
    "# Train the model using SGD"
   ]
  },
  {
   "cell_type": "markdown",
   "metadata": {},
   "source": [
    "## Multilayer Neural Network"
   ]
  },
  {
   "cell_type": "markdown",
   "metadata": {},
   "source": [
    "We are using 3 layers, 2 hidden layers with tangent hiperbolic activation and a sigmoid function at the end. This neural network also work with L1 and L2 regularization.\n",
    "\n",
    "We try to use few neurons on hidden layers to get a better generalization."
   ]
  },
  {
   "cell_type": "code",
   "execution_count": 158,
   "metadata": {},
   "outputs": [],
   "source": [
    "class Multilayer:\n",
    "    \"\"\"\n",
    "        Logistic Regression with L1 and L2 regularization\n",
    "        \n",
    "        Arguments:\n",
    "                \n",
    "                alpha   : Learning Rate\n",
    "                l1_coef : Lambda 1\n",
    "                l2_coef : Lambda 2\n",
    "            \n",
    "    \"\"\"\n",
    "    \n",
    "    def __init__ (self, input_size, hid_units1, hid_units2, lr, lambda_1, lambda_2):\n",
    "        self.W1      = np.random.randn(input_size, hid_units1) * np.sqrt(1/input_size)\n",
    "        self.b1      = np.zeros((1, hid_units1))\n",
    "        self.W2      = np.random.randn(hid_units1, hid_units2) * np.sqrt(1/hid_units1)\n",
    "        self.b2      = np.zeros((1, hid_units2))\n",
    "        self.W3      = np.random.randn(hid_units2,          1) * np.sqrt(1/hid_units2)\n",
    "        self.b3      = 0.0\n",
    "        self.lr      = lr\n",
    "        self.l1_coef = lambda_1\n",
    "        self.l2_coef = lambda_2\n",
    "        \n",
    "    def ReLU(self, z):\n",
    "        return np.maximum(0, z)\n",
    "    \n",
    "    def TangH(self, z):\n",
    "        return (np.exp(z) - np.exp(-z))/(np.exp(z) + np.exp(-z) + 1e-8)\n",
    "    \n",
    "    def deltaTangH(self, z):\n",
    "        return 4 * np.exp(z) * np.exp(-z)/(np.exp(z) + np.exp(-z)+ 1e-8)**2\n",
    "    \n",
    "    def sigmoid(self,z):\n",
    "        \"\"\"\n",
    "            Activation function\n",
    "            \n",
    "            Arguments:  \n",
    "                z : W*X + b\n",
    "                \n",
    "            Returns:\n",
    "                sigmoid function of z.\n",
    "                \n",
    "        \"\"\"\n",
    "        return 1 / (1 + np.exp(-z))\n",
    "    \n",
    "    def deltaCost(self, y, y_hat):\n",
    "        return y_hat - y\n",
    "        \n",
    "    def pred(self, X):\n",
    "        \"\"\"\n",
    "            Given a X matrix as a input we return the prediction for\n",
    "            W and b.\n",
    "            \n",
    "            Args:\n",
    "                X : Matrix of features vectors for each review\n",
    "            \n",
    "            Returns:\n",
    "                Prediction without a threshold\n",
    "        \"\"\"\n",
    "        Z1 = np.dot(X , self.W1) + self.b1\n",
    "        A1 = self.TangH(Z1)\n",
    "        Z2 = np.dot(A1, self.W2) + self.b2\n",
    "        A2 = self.TangH(Z2)   \n",
    "        Z3 = np.dot(A2, self.W3) + self.b3\n",
    "        A3 = self.sigmoid(Z3)          \n",
    "        return A3\n",
    "\n",
    "    def predSentiment(self, X):\n",
    "        \"\"\"\n",
    "            Given a X matrix as a input we return the prediction with threshold \n",
    "            for W and b.\n",
    "            \n",
    "            Args:\n",
    "                X : Matrix of features vectors for each review\n",
    "            \n",
    "            Returns:\n",
    "                Prediction with threshold\n",
    "        \"\"\"\n",
    "        return self.pred(X) > 0.5\n",
    "    \n",
    "    def acc(self, X, y):\n",
    "        \"\"\"\n",
    "            Accuracy of a input and label\n",
    "            \n",
    "            Args:\n",
    "                X: Matrix of features vectors for each review\n",
    "                y: Labels of each Matrix\n",
    "            \n",
    "            Returns:\n",
    "                A number between 0 and 1.0\n",
    "        \"\"\"\n",
    "        \n",
    "        return np.mean(self.predSentiment(X) == y)\n",
    "    \n",
    "    def getCost(self,y, y_hat):\n",
    "        \"\"\"\n",
    "            Cost function\n",
    "            \n",
    "                Cost = - [y * log(sigma(W*X + b)) + (1 - y) * log(1 - sigma(W*X + b))] \n",
    "                         + 0.5 * l2_ratio * ||w||^2_2 \n",
    "                         + l1_ratio * ||w||_1 \n",
    "            \n",
    "            Args:\n",
    "                X: Matrix of features vectors for each review\n",
    "                y: Labels of each Matrix\n",
    "                \n",
    "            Returns:\n",
    "                Cost using L1 and L2 regularizations \n",
    "                \n",
    "        \"\"\"\n",
    "        y_hat = np.clip(y_hat, 1e-8, 1 - 1e-8)\n",
    "        cost  = - 0.5 * np.mean(np.multiply(y  , np.log(y_hat     + 1e-5))\n",
    "                             + np.multiply(1-y , np.log(1 - y_hat + 1e-5)))\n",
    "        \n",
    "        cost += 0.5 * self.l2_coef * np.sum(np.square(self.W1)) + self.l1_coef * np.sum(np.abs(self.W1)) \n",
    "        cost += 0.5 * self.l2_coef * np.sum(np.square(self.W2)) + self.l1_coef * np.sum(np.abs(self.W2))\n",
    "        \n",
    "        return cost \n",
    "    \n",
    "    def Propagation(self, X, y):\n",
    "        # Forward Propagation\n",
    "        \n",
    "        Z1 = np.dot(X , self.W1) + self.b1\n",
    "        A1 = self.TangH(Z1)\n",
    "        Z2 = np.dot(A1, self.W2) + self.b2\n",
    "        A2 = self.TangH(Z2)\n",
    "        Z3 = np.dot(A2, self.W3) + self.b3\n",
    "        A3 = self.sigmoid(Z3)\n",
    "        cost   = self.getCost(y, A3)        \n",
    "        d_cost = self.deltaCost(y, A3)\n",
    "        \n",
    "        # Backward Propagation\n",
    "        \n",
    "        dW3     = np.dot(A2.T, d_cost)\n",
    "        db3     = np.sum(d_cost, axis=0, keepdims=True) \n",
    "        \n",
    "        # Hidden Layer 2\n",
    "        dhidden2 = np.dot(d_cost, self.W3.T)\n",
    "        \n",
    "        # The TangH derivative\n",
    "        dG2 = self.deltaTangH(Z2)\n",
    "        #dhidden[A1 <= 0] = 0\n",
    "        assert(dG2.shape == dhidden2.shape)\n",
    "        dhidden2 = dG2 * dhidden2\n",
    "        # Second Layer\n",
    "        dW2  = np.matmul(A1.T, dhidden2)\n",
    "        db2  = np.sum(dhidden2, axis=0, keepdims=True)        \n",
    "    \n",
    "        # Hidden Layer 3\n",
    "        dhidden1 = np.dot(dhidden2, self.W2.T)\n",
    "        \n",
    "        # The TangH derivative\n",
    "        dG1 = self.deltaTangH(Z1)\n",
    "        #dhidden[A1 <= 0] = 0\n",
    "        assert(dG1.shape == dhidden1.shape)\n",
    "        dhidden1 = dG1 * dhidden1\n",
    "        # First Layer\n",
    "        dW1  = np.matmul(X.T, dhidden1)\n",
    "        db1  = np.sum(dhidden1, axis=0, keepdims=True)  \n",
    "        \n",
    "        # Regularization L2\n",
    "        dW1 += self.l2_coef * self.W1\n",
    "        dW2 += self.l2_coef * self.W2\n",
    "        dW3 += self.l2_coef * self.W3\n",
    "\n",
    "        # Regularization L1\n",
    "        dW1 += self.l1_coef * np.multiply(self.W1, 1 / np.abs(self.W1))\n",
    "        dW2 += self.l1_coef * np.multiply(self.W2, 1 / np.abs(self.W2))\n",
    "        dW3 += self.l1_coef * np.multiply(self.W3, 1 / np.abs(self.W3))  \n",
    "        \n",
    "        assert(dW1.shape == self.W1.shape)\n",
    "        assert(db1.dtype == float)\n",
    "        assert(dW2.shape == self.W2.shape)\n",
    "        assert(db2.dtype == float)\n",
    "        assert(dW3.shape == self.W3.shape)\n",
    "        assert(db3.dtype == float)\n",
    "        \n",
    "        grads = { \n",
    "                 \"dW1\" : dW1,\n",
    "                 \"db1\" : db1,\n",
    "                 \"dW2\" : dW2,\n",
    "                 \"db2\" : db2,   \n",
    "                 \"dW3\" : dW3,\n",
    "                 \"db3\" : db3   \n",
    "        }\n",
    "        \n",
    "        return grads, cost\n",
    "    \n",
    "    def train(self, X, y):\n",
    "        \"\"\"\n",
    "            function to minimize the Cost\n",
    "            \n",
    "            Args:\n",
    "                X: Matrix of features vectors for each review\n",
    "                y: Labels of each Matrix\n",
    "            \n",
    "        \"\"\"\n",
    "        \n",
    "        grads, cost = self.Propagation(X, y)\n",
    "        \n",
    "        dW1 = grads[\"dW1\"]\n",
    "        db1 = grads[\"db1\"]\n",
    "        dW2 = grads[\"dW2\"]\n",
    "        db2 = grads[\"db2\"]        \n",
    "        dW3 = grads[\"dW3\"]\n",
    "        db3 = grads[\"db3\"]\n",
    "        \n",
    "        self.W1 = self.W1 - dW1 * self.lr\n",
    "        self.b1 = self.b1 - db1 * self.lr\n",
    "        self.W2 = self.W2 - dW2 * self.lr\n",
    "        self.b2 = self.b2 - db2 * self.lr\n",
    "        self.W3 = self.W3 - dW3 * self.lr\n",
    "        self.b3 = self.b3 - db3 * self.lr        \n",
    "        \n",
    "        return cost"
   ]
  },
  {
   "cell_type": "code",
   "execution_count": 223,
   "metadata": {},
   "outputs": [],
   "source": [
    "def train_model(X, y, batch1, batch2, iterations, stepplot, crossval):\n",
    "    \n",
    "    split = int(X.shape[0]*crossval)\n",
    "\n",
    "    X_data_train = X[:split]\n",
    "    y_data_train = y[:split]\n",
    "\n",
    "    X_data_valid = X[split:]\n",
    "    y_data_valid = y[split:]\n",
    "\n",
    "    fmt    = '\\n\\n{:3d} epoch: {:3.2f} ep/min, loss_train = {:5.4f}, loss_val = {:5.4f}, acc_train = {:4.3f}, acc_val = {:4.3f}'\n",
    "\n",
    "\n",
    "    train_epoch     = []\n",
    "    valid_epoch     = []\n",
    "    acc_train_epoch = []\n",
    "    acc_valid_epoch = []\n",
    "    train_elem      = []\n",
    "\n",
    "    for i in range(iterations):\n",
    "        loss_t  = 0.0\n",
    "        n_batch = X_data_train.shape[0]/batch1\n",
    "        st = time.time()\n",
    "\n",
    "        for i_batch in range(0,X_data_train.shape[0], batch1):\n",
    "            X_batch  = X_data_train[i_batch:i_batch + batch1].astype(np.float32)\n",
    "            y_batch  = y_data_train[i_batch:i_batch + batch1]\n",
    "            loss_tmp = net.train(X_batch , y_batch)\n",
    "            loss_t  += loss_tmp\n",
    "            \n",
    "\n",
    "            #if i_batch  % stepplot == 0:\n",
    "            #    train_elem.append(loss_tmp)\n",
    "            #    print('-> element : [{:5d}], loss_temp = {:5.4f}'.format(i_batch, loss_tmp))\n",
    "\n",
    "        if (i+1)%1 == 0:\n",
    "            train_epoch.append(loss_t/n_batch)\n",
    "            acc_train = 0\n",
    "            t_batch = X_data_train.shape[0]/batch2\n",
    "            for i_batch in range(0,X_data_train.shape[0], batch2):\n",
    "                X_batch_   = X_data_train[i_batch:i_batch + batch2].astype(np.float32)\n",
    "                y_batch_   = y_data_train[i_batch:i_batch + batch2]\n",
    "                acc_train += net.acc(X_batch_, y_batch_)\n",
    "\n",
    "            acc_train_epoch.append(acc_train/t_batch)\n",
    "            loss_valid = 0\n",
    "            acc_valid  = 0\n",
    "\n",
    "            v_batch = X_data_valid.shape[0]/batch2\n",
    "            for i_batch in range(0,X_data_valid.shape[0], batch2):\n",
    "                X_batch_v = X_data_valid[i_batch:i_batch + batch2].astype(np.float32)\n",
    "                y_batch_v = y_data_valid[i_batch:i_batch + batch2]\n",
    "\n",
    "                y_hat_batch_v = net.pred(X_batch_v)\n",
    "                loss_valid   += net.getCost(y_batch_v, y_hat_batch_v)\n",
    "                acc_valid    += net.acc(X_batch_v, y_batch_v)\n",
    "                \n",
    "            valid_epoch.append(loss_valid/v_batch)\n",
    "            acc_valid_epoch.append(acc_valid/v_batch)\n",
    "            dt   = time.time() - st\n",
    "            print(fmt.format((i+1), 60/dt,\n",
    "                                    loss_t    /n_batch, \n",
    "                                    loss_valid/v_batch,\n",
    "                                    acc_train /t_batch,\n",
    "                                    acc_valid /v_batch))\n",
    "    \n",
    "    history = {\n",
    "                \"loss_temp\" : train_elem,\n",
    "                \"loss_epoch\": train_epoch,\n",
    "                \"loss_valid\": valid_epoch,\n",
    "                \"acc_train\" : acc_train_epoch,\n",
    "                \"acc_valid\" : acc_valid_epoch\n",
    "                }\n",
    "    \n",
    "    return history"
   ]
  },
  {
   "cell_type": "code",
   "execution_count": 224,
   "metadata": {},
   "outputs": [],
   "source": [
    "n, m = X_train.shape\n",
    "net  = Multilayer(input_size=m, hid_units1=10, hid_units2=3, lr=1e-3, lambda_1=1e-6, lambda_2=1e-6)"
   ]
  },
  {
   "cell_type": "code",
   "execution_count": 225,
   "metadata": {},
   "outputs": [
    {
     "name": "stdout",
     "output_type": "stream",
     "text": [
      "\n",
      "\n",
      "  1 epoch: 0.06 ep/min, loss_train = 0.2813, loss_val = 0.2643, acc_train = 0.817, acc_val = 0.747\n",
      "\n",
      "\n",
      "  2 epoch: 0.06 ep/min, loss_train = 0.2270, loss_val = 0.2670, acc_train = 0.838, acc_val = 0.747\n",
      "\n",
      "\n",
      "  3 epoch: 0.06 ep/min, loss_train = 0.2057, loss_val = 0.2705, acc_train = 0.854, acc_val = 0.754\n",
      "\n",
      "\n",
      "  4 epoch: 0.06 ep/min, loss_train = 0.1826, loss_val = 0.2862, acc_train = 0.860, acc_val = 0.748\n",
      "\n",
      "\n",
      "  5 epoch: 0.06 ep/min, loss_train = 0.1686, loss_val = 0.2980, acc_train = 0.866, acc_val = 0.749\n",
      "\n",
      "\n",
      "  6 epoch: 0.06 ep/min, loss_train = 0.1578, loss_val = 0.3119, acc_train = 0.866, acc_val = 0.746\n",
      "\n",
      "\n",
      "  7 epoch: 0.06 ep/min, loss_train = 0.1494, loss_val = 0.3148, acc_train = 0.880, acc_val = 0.743\n",
      "\n",
      "\n",
      "  8 epoch: 0.06 ep/min, loss_train = 0.1339, loss_val = 0.3284, acc_train = 0.874, acc_val = 0.740\n",
      "\n",
      "\n",
      "  9 epoch: 0.06 ep/min, loss_train = 0.1252, loss_val = 0.3423, acc_train = 0.884, acc_val = 0.745\n",
      "\n",
      "\n",
      " 10 epoch: 0.06 ep/min, loss_train = 0.1163, loss_val = 0.3478, acc_train = 0.883, acc_val = 0.742\n",
      "\n",
      "\n",
      " 11 epoch: 0.06 ep/min, loss_train = 0.1089, loss_val = 0.3640, acc_train = 0.893, acc_val = 0.746\n",
      "\n",
      "\n",
      " 12 epoch: 0.06 ep/min, loss_train = 0.1036, loss_val = 0.3735, acc_train = 0.889, acc_val = 0.741\n",
      "\n",
      "\n",
      " 13 epoch: 0.06 ep/min, loss_train = 0.0999, loss_val = 0.3869, acc_train = 0.890, acc_val = 0.742\n",
      "\n",
      "\n",
      " 14 epoch: 0.06 ep/min, loss_train = 0.0979, loss_val = 0.3908, acc_train = 0.883, acc_val = 0.736\n",
      "\n",
      "\n",
      " 15 epoch: 0.06 ep/min, loss_train = 0.0926, loss_val = 0.3952, acc_train = 0.896, acc_val = 0.743\n",
      "\n",
      "\n",
      " 16 epoch: 0.06 ep/min, loss_train = 0.0895, loss_val = 0.3918, acc_train = 0.900, acc_val = 0.743\n",
      "\n",
      "\n",
      " 17 epoch: 0.06 ep/min, loss_train = 0.0887, loss_val = 0.4017, acc_train = 0.889, acc_val = 0.742\n",
      "\n",
      "\n",
      " 18 epoch: 0.06 ep/min, loss_train = 0.0864, loss_val = 0.4094, acc_train = 0.898, acc_val = 0.742\n",
      "\n",
      "\n",
      " 19 epoch: 0.06 ep/min, loss_train = 0.0815, loss_val = 0.4181, acc_train = 0.897, acc_val = 0.739\n",
      "\n",
      "\n",
      " 20 epoch: 0.06 ep/min, loss_train = 0.0799, loss_val = 0.4299, acc_train = 0.893, acc_val = 0.740\n",
      "\n",
      "\n",
      " 21 epoch: 0.06 ep/min, loss_train = 0.0776, loss_val = 0.4240, acc_train = 0.889, acc_val = 0.739\n",
      "\n",
      "\n",
      " 22 epoch: 0.06 ep/min, loss_train = 0.0753, loss_val = 0.4380, acc_train = 0.904, acc_val = 0.741\n",
      "\n",
      "\n",
      " 23 epoch: 0.06 ep/min, loss_train = 0.0747, loss_val = 0.4421, acc_train = 0.906, acc_val = 0.742\n",
      "\n",
      "\n",
      " 24 epoch: 0.06 ep/min, loss_train = 0.0738, loss_val = 0.4464, acc_train = 0.907, acc_val = 0.736\n",
      "\n",
      "\n",
      " 25 epoch: 0.06 ep/min, loss_train = 0.0719, loss_val = 0.4539, acc_train = 0.894, acc_val = 0.738\n",
      "\n",
      "\n",
      " 26 epoch: 0.06 ep/min, loss_train = 0.0732, loss_val = 0.4539, acc_train = 0.892, acc_val = 0.737\n",
      "\n",
      "\n",
      " 27 epoch: 0.06 ep/min, loss_train = 0.0715, loss_val = 0.4611, acc_train = 0.897, acc_val = 0.733\n",
      "\n",
      "\n",
      " 28 epoch: 0.06 ep/min, loss_train = 0.0707, loss_val = 0.4620, acc_train = 0.899, acc_val = 0.735\n",
      "\n",
      "\n",
      " 29 epoch: 0.06 ep/min, loss_train = 0.0720, loss_val = 0.4623, acc_train = 0.901, acc_val = 0.738\n",
      "\n",
      "\n",
      " 30 epoch: 0.06 ep/min, loss_train = 0.0732, loss_val = 0.4548, acc_train = 0.905, acc_val = 0.734\n"
     ]
    }
   ],
   "source": [
    "its   = 30\n",
    "btch1 = 1\n",
    "step  = 500\n",
    "history = train_model(X=X_train, y=y_train, batch1=btch1, batch2=100, iterations=its,stepplot=step, crossval=0.7)"
   ]
  },
  {
   "cell_type": "code",
   "execution_count": 210,
   "metadata": {},
   "outputs": [
    {
     "data": {
      "image/png": "[encoded data removed]",
      "text/plain": [
       "<Figure size 1008x576 with 1 Axes>"
      ]
     },
     "metadata": {
      "needs_background": "light"
     },
     "output_type": "display_data"
    }
   ],
   "source": [
    "btch1 = 1\n",
    "loss_t = history['loss_temp']\n",
    "\n",
    "it     = [i*step for i in range(len(loss_t))]\n",
    "\n",
    "fig, ax = plt.subplots(figsize=(14, 8))\n",
    "lt      = ax.plot(it, loss_t)\n",
    "ax.set(xlabel='Review Number', ylabel='Cost', title='Cost on each review')\n",
    "ax.axis([0, len(loss_t)*step  + 0.5, 0.0, 5.0])\n",
    "plt.show()"
   ]
  },
  {
   "cell_type": "code",
   "execution_count": 211,
   "metadata": {},
   "outputs": [
    {
     "name": "stdout",
     "output_type": "stream",
     "text": [
      "train loss:  0.2789249823319254\n",
      "valid loss:  0.26285237648787135\n"
     ]
    }
   ],
   "source": [
    "train_epoch = history['loss_epoch']\n",
    "valid_epoch = history['loss_valid']\n",
    "\n",
    "print('train loss: ', train_epoch[-1])\n",
    "print('valid loss: ', valid_epoch[-1])"
   ]
  },
  {
   "cell_type": "code",
   "execution_count": 212,
   "metadata": {},
   "outputs": [
    {
     "name": "stdout",
     "output_type": "stream",
     "text": [
      "train accuracy:  0.8129428571428581\n",
      "valid accuracy:  0.7484666666666668\n"
     ]
    }
   ],
   "source": [
    "acc_train_epoch = history['acc_train']\n",
    "acc_valid_epoch = history['acc_valid']\n",
    "\n",
    "print('train accuracy: ', acc_train_epoch[-1])\n",
    "print('valid accuracy: ', acc_valid_epoch[-1])"
   ]
  },
  {
   "cell_type": "code",
   "execution_count": 213,
   "metadata": {},
   "outputs": [],
   "source": [
    "#This lines are for plot error on each epoch\n",
    "\n",
    "#ep = np.arange(1, its + 1, 1)\n",
    "\n",
    "#train_epoch = history['loss_epoch']\n",
    "#valid_epoch = history['loss_valid']\n",
    "#fig, ax = plt.subplots(figsize=(14, 8))\n",
    "#l1 , l2   = ax.plot(ep, train_epoch, ep, valid_epoch)\n",
    "#ax.set(xlabel='Epoch', ylabel='Cost', title='Logistic Regression with L1 and L2 regularization')\n",
    "#ax.axis([0.8, its + 0.5, 0.1, 0.8])\n",
    "#plt.legend([l1, l2],[\"Training\",\"Validation\"])\n",
    "#plt.show()"
   ]
  },
  {
   "cell_type": "code",
   "execution_count": 214,
   "metadata": {},
   "outputs": [],
   "source": [
    "#This lines are for plot accuracy on each epoch\n",
    "\n",
    "#fig, ax = plt.subplots(figsize=(14, 8))\n",
    "\n",
    "#acc_train_epoch = history['acc_train']\n",
    "#acc_test_epoch  = history['acc_test']\n",
    "\n",
    "#l3, l4  = ax.plot(ep, acc_train_epoch, ep, acc_test_epoch)\n",
    "#ax.set(xlabel='Epoch', ylabel='Accuracy', title='Multiple Layer Perceptron')\n",
    "#ax.axis([0.8, its + 0.5, 0.68, 0.88])\n",
    "#plt.legend([l3, l4],[\"Train Accuracy\", \"Test Accuracy\"])\n",
    "#plt.show()"
   ]
  },
  {
   "cell_type": "markdown",
   "metadata": {
    "collapsed": true
   },
   "source": [
    "# Testing"
   ]
  },
  {
   "cell_type": "markdown",
   "metadata": {},
   "source": [
    "In the previous section, we successfully trained a model to predict the sentiment of a movie review. Unfortunately, if we'd close this IPython notebook at this point, we'd have to go through the whole learning process again and again if we'd want to make a prediction on \"new data.\"\n",
    "\n",
    "So, to reuse this model, we could use the [`pickle`](https://docs.python.org/3.5/library/pickle.html) module to \"serialize a Python object structure\". Or even better, we could use the [`joblib`](https://pypi.python.org/pypi/joblib) library, which handles large NumPy arrays more efficiently.\n",
    "\n",
    "To install:\n",
    "conda install -c anaconda joblib"
   ]
  },
  {
   "cell_type": "code",
   "execution_count": 215,
   "metadata": {},
   "outputs": [
    {
     "data": {
      "text/plain": [
       "['./net.pkl']"
      ]
     },
     "execution_count": 215,
     "metadata": {},
     "output_type": "execute_result"
    }
   ],
   "source": [
    "#Exercise 3: compare  with your Neural Network\n",
    "\n",
    "import joblib\n",
    "import os\n",
    "\n",
    "joblib.dump(vectorizer, './vectorizer.pkl')\n",
    "joblib.dump(net,'./net.pkl')"
   ]
  },
  {
   "cell_type": "markdown",
   "metadata": {},
   "source": [
    "Now, let us restart this IPython notebook and check if the we can load our serialized objects:"
   ]
  },
  {
   "cell_type": "code",
   "execution_count": 216,
   "metadata": {},
   "outputs": [],
   "source": [
    "vectorizer = joblib.load('./vectorizer.pkl')\n",
    "net        = joblib.load('./net.pkl')"
   ]
  },
  {
   "cell_type": "markdown",
   "metadata": {},
   "source": [
    "After loading the `tokenizer`, `HashingVectorizer`, and the tranined logistic regression model, we can use it to make predictions on new data, which can be useful, for example, if we'd want to embed our classifier into a web application -- a topic for another IPython notebook."
   ]
  },
  {
   "cell_type": "markdown",
   "metadata": {},
   "source": [
    "True : Good comment"
   ]
  },
  {
   "cell_type": "markdown",
   "metadata": {},
   "source": [
    "False: Bad comment"
   ]
  },
  {
   "cell_type": "code",
   "execution_count": 217,
   "metadata": {},
   "outputs": [
    {
     "name": "stdout",
     "output_type": "stream",
     "text": [
      "\r",
      "100.00%\r",
      "Done     \n",
      "\n"
     ]
    },
    {
     "data": {
      "text/plain": [
       "array([[ True]])"
      ]
     },
     "execution_count": 217,
     "metadata": {},
     "output_type": "execute_result"
    }
   ],
   "source": [
    "example = ['I loved this movie']\n",
    "m  = tokenizer(example[0])\n",
    "X = vectorizer.transform([m])\n",
    "net.predSentiment(X)"
   ]
  },
  {
   "cell_type": "code",
   "execution_count": 218,
   "metadata": {},
   "outputs": [
    {
     "name": "stdout",
     "output_type": "stream",
     "text": [
      "\r",
      "100.00%\r",
      "Done     \n",
      "\n"
     ]
    },
    {
     "data": {
      "text/plain": [
       "array([[ True]])"
      ]
     },
     "execution_count": 218,
     "metadata": {},
     "output_type": "execute_result"
    }
   ],
   "source": [
    "example = ['This movie was great!']\n",
    "m  = tokenizer(example[0])\n",
    "X = vectorizer.transform([m])\n",
    "net.predSentiment(X)"
   ]
  },
  {
   "cell_type": "code",
   "execution_count": 219,
   "metadata": {},
   "outputs": [
    {
     "name": "stdout",
     "output_type": "stream",
     "text": [
      "\r",
      "100.00%\r",
      "Done     \n",
      "\n"
     ]
    },
    {
     "data": {
      "text/plain": [
       "array([[False]])"
      ]
     },
     "execution_count": 219,
     "metadata": {},
     "output_type": "execute_result"
    }
   ],
   "source": [
    "example = [\"I didn't like this movie\"]\n",
    "m  = tokenizer(example[0])\n",
    "X = vectorizer.transform([m])\n",
    "\n",
    "net.predSentiment(X)"
   ]
  },
  {
   "cell_type": "code",
   "execution_count": 220,
   "metadata": {},
   "outputs": [
    {
     "name": "stdout",
     "output_type": "stream",
     "text": [
      "\r",
      "100.00%\r",
      "Done     \n",
      "\n"
     ]
    },
    {
     "data": {
      "text/plain": [
       "array([[False]])"
      ]
     },
     "execution_count": 220,
     "metadata": {},
     "output_type": "execute_result"
    }
   ],
   "source": [
    "example = ['I did not like this movie']\n",
    "m  = tokenizer(example[0])\n",
    "X = vectorizer.transform([m])\n",
    "net.predSentiment(X)"
   ]
  },
  {
   "cell_type": "code",
   "execution_count": 221,
   "metadata": {},
   "outputs": [
    {
     "name": "stdout",
     "output_type": "stream",
     "text": [
      "\r",
      "100.00%\r",
      "Done     \n",
      "\n"
     ]
    },
    {
     "data": {
      "text/plain": [
       "array([[False]])"
      ]
     },
     "execution_count": 221,
     "metadata": {},
     "output_type": "execute_result"
    }
   ],
   "source": [
    "example = [\"I don't like this movie\"]\n",
    "m  = tokenizer(example[0])\n",
    "X = vectorizer.transform([m])\n",
    "net.predSentiment(X)"
   ]
  },
  {
   "cell_type": "markdown",
   "metadata": {},
   "source": [
    "In complex sentences the result is not the correct"
   ]
  },
  {
   "cell_type": "code",
   "execution_count": 222,
   "metadata": {},
   "outputs": [
    {
     "name": "stdout",
     "output_type": "stream",
     "text": [
      "\r",
      "100.00%\r",
      "Done     \n",
      "\n"
     ]
    },
    {
     "data": {
      "text/plain": [
       "array([[ True]])"
      ]
     },
     "execution_count": 222,
     "metadata": {},
     "output_type": "execute_result"
    }
   ],
   "source": [
    "example = [\"I love the actor but the history was the worst, I don't recommend this one\"]\n",
    "m  = tokenizer(example[0])\n",
    "X = vectorizer.transform([m])\n",
    "net.predSentiment(X)"
   ]
  },
  {
   "cell_type": "code",
   "execution_count": null,
   "metadata": {},
   "outputs": [],
   "source": []
  }
 ],
 "metadata": {
  "kernelspec": {
   "display_name": "Python 3",
   "language": "python",
   "name": "python3"
  },
  "language_info": {
   "codemirror_mode": {
    "name": "ipython",
    "version": 3
   },
   "file_extension": ".py",
   "mimetype": "text/x-python",
   "name": "python",
   "nbconvert_exporter": "python",
   "pygments_lexer": "ipython3",
   "version": "3.5.2"
  }
 },
 "nbformat": 4,
 "nbformat_minor": 1
}
